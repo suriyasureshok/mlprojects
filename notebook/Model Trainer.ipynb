{
 "cells": [
  {
   "cell_type": "markdown",
   "id": "ae185225",
   "metadata": {},
   "source": [
    "# Model Training\n",
    "\n",
    "## 1. Import all the required libraries"
   ]
  },
  {
   "cell_type": "code",
   "execution_count": 30,
   "id": "625e40c0",
   "metadata": {},
   "outputs": [],
   "source": [
    "# Essential Libraries\n",
    "import numpy as np\n",
    "import pandas as pd\n",
    "import matplotlib.pyplot as plt\n",
    "import seaborn as sns\n",
    "# Model Traing Libraries\n",
    "from sklearn.metrics import mean_squared_error, r2_score, mean_absolute_error\n",
    "from sklearn.neighbors import KNeighborsRegressor\n",
    "from sklearn.tree import DecisionTreeRegressor\n",
    "from sklearn.ensemble import RandomForestRegressor, AdaBoostRegressor\n",
    "from sklearn.linear_model import LinearRegression, Ridge, Lasso\n",
    "from sklearn.svm import SVR\n",
    "from xgboost import XGBRegressor\n",
    "from catboost import CatBoostRegressor\n",
    "import warnings\n"
   ]
  },
  {
   "cell_type": "markdown",
   "id": "300cd3a4",
   "metadata": {},
   "source": [
    "## 2. Import the Dataset"
   ]
  },
  {
   "cell_type": "code",
   "execution_count": 31,
   "id": "371fbeca",
   "metadata": {},
   "outputs": [],
   "source": [
    "df = pd.read_csv('data/stud.csv')"
   ]
  },
  {
   "cell_type": "markdown",
   "id": "b20617e7",
   "metadata": {},
   "source": [
    "#### Checking the head of the data"
   ]
  },
  {
   "cell_type": "code",
   "execution_count": 32,
   "id": "94f9736b",
   "metadata": {},
   "outputs": [
    {
     "data": {
      "text/html": [
       "<div>\n",
       "<style scoped>\n",
       "    .dataframe tbody tr th:only-of-type {\n",
       "        vertical-align: middle;\n",
       "    }\n",
       "\n",
       "    .dataframe tbody tr th {\n",
       "        vertical-align: top;\n",
       "    }\n",
       "\n",
       "    .dataframe thead th {\n",
       "        text-align: right;\n",
       "    }\n",
       "</style>\n",
       "<table border=\"1\" class=\"dataframe\">\n",
       "  <thead>\n",
       "    <tr style=\"text-align: right;\">\n",
       "      <th></th>\n",
       "      <th>gender</th>\n",
       "      <th>race_ethnicity</th>\n",
       "      <th>parental_level_of_education</th>\n",
       "      <th>lunch</th>\n",
       "      <th>test_preparation_course</th>\n",
       "      <th>math_score</th>\n",
       "      <th>reading_score</th>\n",
       "      <th>writing_score</th>\n",
       "    </tr>\n",
       "  </thead>\n",
       "  <tbody>\n",
       "    <tr>\n",
       "      <th>0</th>\n",
       "      <td>female</td>\n",
       "      <td>group B</td>\n",
       "      <td>bachelor's degree</td>\n",
       "      <td>standard</td>\n",
       "      <td>none</td>\n",
       "      <td>72</td>\n",
       "      <td>72</td>\n",
       "      <td>74</td>\n",
       "    </tr>\n",
       "    <tr>\n",
       "      <th>1</th>\n",
       "      <td>female</td>\n",
       "      <td>group C</td>\n",
       "      <td>some college</td>\n",
       "      <td>standard</td>\n",
       "      <td>completed</td>\n",
       "      <td>69</td>\n",
       "      <td>90</td>\n",
       "      <td>88</td>\n",
       "    </tr>\n",
       "    <tr>\n",
       "      <th>2</th>\n",
       "      <td>female</td>\n",
       "      <td>group B</td>\n",
       "      <td>master's degree</td>\n",
       "      <td>standard</td>\n",
       "      <td>none</td>\n",
       "      <td>90</td>\n",
       "      <td>95</td>\n",
       "      <td>93</td>\n",
       "    </tr>\n",
       "    <tr>\n",
       "      <th>3</th>\n",
       "      <td>male</td>\n",
       "      <td>group A</td>\n",
       "      <td>associate's degree</td>\n",
       "      <td>free/reduced</td>\n",
       "      <td>none</td>\n",
       "      <td>47</td>\n",
       "      <td>57</td>\n",
       "      <td>44</td>\n",
       "    </tr>\n",
       "    <tr>\n",
       "      <th>4</th>\n",
       "      <td>male</td>\n",
       "      <td>group C</td>\n",
       "      <td>some college</td>\n",
       "      <td>standard</td>\n",
       "      <td>none</td>\n",
       "      <td>76</td>\n",
       "      <td>78</td>\n",
       "      <td>75</td>\n",
       "    </tr>\n",
       "  </tbody>\n",
       "</table>\n",
       "</div>"
      ],
      "text/plain": [
       "   gender race_ethnicity parental_level_of_education         lunch  \\\n",
       "0  female        group B           bachelor's degree      standard   \n",
       "1  female        group C                some college      standard   \n",
       "2  female        group B             master's degree      standard   \n",
       "3    male        group A          associate's degree  free/reduced   \n",
       "4    male        group C                some college      standard   \n",
       "\n",
       "  test_preparation_course  math_score  reading_score  writing_score  \n",
       "0                    none          72             72             74  \n",
       "1               completed          69             90             88  \n",
       "2                    none          90             95             93  \n",
       "3                    none          47             57             44  \n",
       "4                    none          76             78             75  "
      ]
     },
     "execution_count": 32,
     "metadata": {},
     "output_type": "execute_result"
    }
   ],
   "source": [
    "df.head()"
   ]
  },
  {
   "cell_type": "markdown",
   "id": "b32a9622",
   "metadata": {},
   "source": [
    "## 3. Preparing the independant features and dependant feature\n",
    "\n",
    "### 3.1 Splitting the X and Y"
   ]
  },
  {
   "cell_type": "code",
   "execution_count": 35,
   "id": "697caaef",
   "metadata": {},
   "outputs": [],
   "source": [
    "X = df.drop('math_score',axis=1)"
   ]
  },
  {
   "cell_type": "code",
   "execution_count": 36,
   "id": "b7d23cc7",
   "metadata": {},
   "outputs": [],
   "source": [
    "y = df['math_score']"
   ]
  },
  {
   "cell_type": "markdown",
   "id": "af60bd84",
   "metadata": {},
   "source": [
    "### 3.2 Creating a Preprocessing pipeline"
   ]
  },
  {
   "cell_type": "code",
   "execution_count": 37,
   "id": "e7c91c92",
   "metadata": {},
   "outputs": [],
   "source": [
    "from sklearn.preprocessing import StandardScaler,OneHotEncoder\n",
    "from sklearn.compose import ColumnTransformer\n",
    "\n",
    "num_variables = X.select_dtypes(exclude='object').columns\n",
    "cat_variables = X.select_dtypes(include='object').columns\n",
    "\n",
    "numeric_transformer = StandardScaler()\n",
    "onehot_transformer = OneHotEncoder()\n",
    "\n",
    "preprocess_pipeline = ColumnTransformer([\n",
    "    ('StandardScaler', numeric_transformer, num_variables),\n",
    "    ('OneHotEncoder', onehot_transformer, cat_variables)\n",
    "])"
   ]
  },
  {
   "cell_type": "markdown",
   "id": "98e141b8",
   "metadata": {},
   "source": [
    "### 3.3 Fitting the Independant features to the pipeline "
   ]
  },
  {
   "cell_type": "code",
   "execution_count": 38,
   "id": "b9ef0ba2",
   "metadata": {},
   "outputs": [],
   "source": [
    "X = preprocess_pipeline.fit_transform(X)"
   ]
  },
  {
   "cell_type": "code",
   "execution_count": 39,
   "id": "b4e3fba7",
   "metadata": {},
   "outputs": [
    {
     "data": {
      "text/plain": [
       "(986, 19)"
      ]
     },
     "execution_count": 39,
     "metadata": {},
     "output_type": "execute_result"
    }
   ],
   "source": [
    "X.shape"
   ]
  },
  {
   "cell_type": "markdown",
   "id": "4e537549",
   "metadata": {},
   "source": [
    "### 3.4 Splitting the train and test data"
   ]
  },
  {
   "cell_type": "code",
   "execution_count": 40,
   "id": "ba1bb227",
   "metadata": {},
   "outputs": [],
   "source": [
    "from sklearn.model_selection import train_test_split\n",
    "\n",
    "X_train, X_test, y_train, y_test = train_test_split(X, y, test_size=0.2, random_state=42)"
   ]
  },
  {
   "cell_type": "markdown",
   "id": "7fbfbf64",
   "metadata": {},
   "source": [
    "## 4. Create a function to evaluate all the metrics after the model training"
   ]
  },
  {
   "cell_type": "markdown",
   "id": "c2da133a",
   "metadata": {},
   "source": [
    "### 4.1 Creating the function"
   ]
  },
  {
   "cell_type": "code",
   "execution_count": 41,
   "id": "61e622b4",
   "metadata": {},
   "outputs": [],
   "source": [
    "def evaluate_model(true, predict):\n",
    "    mae = mean_absolute_error(true,predict)\n",
    "    rmse = np.sqrt(mean_squared_error(true,predict))\n",
    "    r2 = r2_score(true,predict)\n",
    "    return mae, rmse, r2"
   ]
  },
  {
   "cell_type": "markdown",
   "id": "c7dc78d8",
   "metadata": {},
   "source": [
    "### 4.2 Evaluating for different models"
   ]
  },
  {
   "cell_type": "code",
   "execution_count": 42,
   "id": "3f52b25e",
   "metadata": {},
   "outputs": [
    {
     "name": "stdout",
     "output_type": "stream",
     "text": [
      "Linear Regression\n",
      "Model perfomance for Training Set\n",
      "- Root Mean squared Error: 5.2681\n",
      "- Mean Absolute Error: 4.2215\n",
      "- R2 Score: 0.8629\n",
      "--------------------\n",
      "Model perfomance for Test Set\n",
      "- Root Mean squared Error: 5.5748\n",
      "- Mean Absolute Error: 4.3395\n",
      "- R2 Score: 0.8569\n",
      "===================================\n",
      "\n",
      "\n",
      "Lasso\n",
      "Model perfomance for Training Set\n",
      "- Root Mean squared Error: 6.5974\n",
      "- Mean Absolute Error: 5.2635\n",
      "- R2 Score: 0.7849\n",
      "--------------------\n",
      "Model perfomance for Test Set\n",
      "- Root Mean squared Error: 6.7329\n",
      "- Mean Absolute Error: 5.2437\n",
      "- R2 Score: 0.7912\n",
      "===================================\n",
      "\n",
      "\n",
      "Ridge\n",
      "Model perfomance for Training Set\n",
      "- Root Mean squared Error: 5.2683\n",
      "- Mean Absolute Error: 4.2202\n",
      "- R2 Score: 0.8628\n",
      "--------------------\n",
      "Model perfomance for Test Set\n",
      "- Root Mean squared Error: 5.5700\n",
      "- Mean Absolute Error: 4.3368\n",
      "- R2 Score: 0.8571\n",
      "===================================\n",
      "\n",
      "\n",
      "Decision Tree\n",
      "Model perfomance for Training Set\n",
      "- Root Mean squared Error: 0.3778\n",
      "- Mean Absolute Error: 0.0266\n",
      "- R2 Score: 0.9993\n",
      "--------------------\n",
      "Model perfomance for Test Set\n",
      "- Root Mean squared Error: 7.9852\n",
      "- Mean Absolute Error: 5.9444\n",
      "- R2 Score: 0.7064\n",
      "===================================\n",
      "\n",
      "\n",
      "Random Forest\n",
      "Model perfomance for Training Set\n",
      "- Root Mean squared Error: 2.2315\n",
      "- Mean Absolute Error: 1.7859\n",
      "- R2 Score: 0.9754\n",
      "--------------------\n",
      "Model perfomance for Test Set\n",
      "- Root Mean squared Error: 6.0386\n",
      "- Mean Absolute Error: 4.6751\n",
      "- R2 Score: 0.8321\n",
      "===================================\n",
      "\n",
      "\n",
      "Ada Boost Regressor\n",
      "Model perfomance for Training Set\n",
      "- Root Mean squared Error: 5.7557\n",
      "- Mean Absolute Error: 4.7300\n",
      "- R2 Score: 0.8363\n",
      "--------------------\n",
      "Model perfomance for Test Set\n",
      "- Root Mean squared Error: 6.2968\n",
      "- Mean Absolute Error: 4.8297\n",
      "- R2 Score: 0.8174\n",
      "===================================\n",
      "\n",
      "\n",
      "Support Vector Machine\n",
      "Model perfomance for Training Set\n",
      "- Root Mean squared Error: 6.0456\n",
      "- Mean Absolute Error: 4.6579\n",
      "- R2 Score: 0.8194\n",
      "--------------------\n",
      "Model perfomance for Test Set\n",
      "- Root Mean squared Error: 6.6292\n",
      "- Mean Absolute Error: 5.0848\n",
      "- R2 Score: 0.7976\n",
      "===================================\n",
      "\n",
      "\n",
      "XGB Regressor\n",
      "Model perfomance for Training Set\n",
      "- Root Mean squared Error: 0.8746\n",
      "- Mean Absolute Error: 0.5487\n",
      "- R2 Score: 0.9962\n",
      "--------------------\n",
      "Model perfomance for Test Set\n",
      "- Root Mean squared Error: 6.6736\n",
      "- Mean Absolute Error: 5.2083\n",
      "- R2 Score: 0.7949\n",
      "===================================\n",
      "\n",
      "\n",
      "Catboost Regressor\n",
      "Model perfomance for Training Set\n",
      "- Root Mean squared Error: 2.8968\n",
      "- Mean Absolute Error: 2.2347\n",
      "- R2 Score: 0.9585\n",
      "--------------------\n",
      "Model perfomance for Test Set\n",
      "- Root Mean squared Error: 6.0236\n",
      "- Mean Absolute Error: 4.7985\n",
      "- R2 Score: 0.8329\n",
      "===================================\n",
      "\n",
      "\n",
      "K Neighbours regressor\n",
      "Model perfomance for Training Set\n",
      "- Root Mean squared Error: 5.7036\n",
      "- Mean Absolute Error: 4.5711\n",
      "- R2 Score: 0.8392\n",
      "--------------------\n",
      "Model perfomance for Test Set\n",
      "- Root Mean squared Error: 6.9344\n",
      "- Mean Absolute Error: 5.5808\n",
      "- R2 Score: 0.7786\n",
      "===================================\n",
      "\n",
      "\n"
     ]
    }
   ],
   "source": [
    "models = {\n",
    "    \"Linear Regression\": LinearRegression(),\n",
    "    \"Lasso\": Lasso(),\n",
    "    \"Ridge\": Ridge(),\n",
    "    \"Decision Tree\": DecisionTreeRegressor(),\n",
    "    \"Random Forest\": RandomForestRegressor(),\n",
    "    \"Ada Boost Regressor\": AdaBoostRegressor(),\n",
    "    \"Support Vector Machine\": SVR(),\n",
    "    \"XGB Regressor\": XGBRegressor(),\n",
    "    \"Catboost Regressor\": CatBoostRegressor(logging_level='Silent'),\n",
    "    \"K Neighbours regressor\": KNeighborsRegressor()\n",
    "}\n",
    "\n",
    "models_list=[]\n",
    "r2_list = []\n",
    "\n",
    "for i in range(len(list(models))):\n",
    "    model = list(models.values())[i]\n",
    "    model.fit(X_train,y_train)\n",
    "\n",
    "    y_train_pred = model.predict(X_train)\n",
    "    y_test_pred = model.predict(X_test)\n",
    "\n",
    "    model_train_mae, model_train_rmse, model_train_r2 = evaluate_model(y_train, y_train_pred)\n",
    "    model_test_mae, model_test_rmse, model_test_r2 = evaluate_model(y_test,y_test_pred)\n",
    "\n",
    "    print(list(models.keys())[i])\n",
    "    models_list.append(list(models.keys())[i])\n",
    "\n",
    "    print(\"Model perfomance for Training Set\")\n",
    "    print(\"- Root Mean squared Error: {:.4f}\".format(model_train_rmse))\n",
    "    print(\"- Mean Absolute Error: {:.4f}\".format(model_train_mae))\n",
    "    print(\"- R2 Score: {:.4f}\".format(model_train_r2))\n",
    "\n",
    "    print(\"-\"*20)\n",
    "\n",
    "    print(\"Model perfomance for Test Set\")\n",
    "    print(\"- Root Mean squared Error: {:.4f}\".format(model_test_rmse))\n",
    "    print(\"- Mean Absolute Error: {:.4f}\".format(model_test_mae))\n",
    "    print(\"- R2 Score: {:.4f}\".format(model_test_r2))\n",
    "    r2_list.append(model_test_r2)\n",
    "\n",
    "    print(\"=\"*35)\n",
    "    print(\"\\n\")\n"
   ]
  },
  {
   "cell_type": "code",
   "execution_count": 43,
   "id": "24a123c2",
   "metadata": {},
   "outputs": [
    {
     "data": {
      "text/html": [
       "<div>\n",
       "<style scoped>\n",
       "    .dataframe tbody tr th:only-of-type {\n",
       "        vertical-align: middle;\n",
       "    }\n",
       "\n",
       "    .dataframe tbody tr th {\n",
       "        vertical-align: top;\n",
       "    }\n",
       "\n",
       "    .dataframe thead th {\n",
       "        text-align: right;\n",
       "    }\n",
       "</style>\n",
       "<table border=\"1\" class=\"dataframe\">\n",
       "  <thead>\n",
       "    <tr style=\"text-align: right;\">\n",
       "      <th></th>\n",
       "      <th>Model Name</th>\n",
       "      <th>R2 Score</th>\n",
       "    </tr>\n",
       "  </thead>\n",
       "  <tbody>\n",
       "    <tr>\n",
       "      <th>2</th>\n",
       "      <td>Ridge</td>\n",
       "      <td>0.857134</td>\n",
       "    </tr>\n",
       "    <tr>\n",
       "      <th>0</th>\n",
       "      <td>Linear Regression</td>\n",
       "      <td>0.856887</td>\n",
       "    </tr>\n",
       "    <tr>\n",
       "      <th>8</th>\n",
       "      <td>Catboost Regressor</td>\n",
       "      <td>0.832918</td>\n",
       "    </tr>\n",
       "    <tr>\n",
       "      <th>4</th>\n",
       "      <td>Random Forest</td>\n",
       "      <td>0.832083</td>\n",
       "    </tr>\n",
       "    <tr>\n",
       "      <th>5</th>\n",
       "      <td>Ada Boost Regressor</td>\n",
       "      <td>0.817420</td>\n",
       "    </tr>\n",
       "    <tr>\n",
       "      <th>6</th>\n",
       "      <td>Support Vector Machine</td>\n",
       "      <td>0.797633</td>\n",
       "    </tr>\n",
       "    <tr>\n",
       "      <th>7</th>\n",
       "      <td>XGB Regressor</td>\n",
       "      <td>0.794914</td>\n",
       "    </tr>\n",
       "    <tr>\n",
       "      <th>1</th>\n",
       "      <td>Lasso</td>\n",
       "      <td>0.791250</td>\n",
       "    </tr>\n",
       "    <tr>\n",
       "      <th>9</th>\n",
       "      <td>K Neighbours regressor</td>\n",
       "      <td>0.778572</td>\n",
       "    </tr>\n",
       "    <tr>\n",
       "      <th>3</th>\n",
       "      <td>Decision Tree</td>\n",
       "      <td>0.706380</td>\n",
       "    </tr>\n",
       "  </tbody>\n",
       "</table>\n",
       "</div>"
      ],
      "text/plain": [
       "               Model Name  R2 Score\n",
       "2                   Ridge  0.857134\n",
       "0       Linear Regression  0.856887\n",
       "8      Catboost Regressor  0.832918\n",
       "4           Random Forest  0.832083\n",
       "5     Ada Boost Regressor  0.817420\n",
       "6  Support Vector Machine  0.797633\n",
       "7           XGB Regressor  0.794914\n",
       "1                   Lasso  0.791250\n",
       "9  K Neighbours regressor  0.778572\n",
       "3           Decision Tree  0.706380"
      ]
     },
     "execution_count": 43,
     "metadata": {},
     "output_type": "execute_result"
    }
   ],
   "source": [
    "pd.DataFrame(list(zip(models_list, r2_list)),columns=['Model Name','R2 Score']).sort_values(by=['R2 Score'],ascending=False)"
   ]
  },
  {
   "cell_type": "markdown",
   "id": "015a0c57",
   "metadata": {},
   "source": [
    "- We will be using Ridge algorithm as it has the highest R2 Score."
   ]
  },
  {
   "cell_type": "markdown",
   "id": "5eb1467e",
   "metadata": {},
   "source": [
    "## 5. training the model with the data"
   ]
  },
  {
   "cell_type": "code",
   "execution_count": 44,
   "id": "3116cd12",
   "metadata": {},
   "outputs": [
    {
     "name": "stdout",
     "output_type": "stream",
     "text": [
      "Accuracy of the model: 85.71339162897864\n"
     ]
    }
   ],
   "source": [
    "ridge_model = Ridge(fit_intercept=True)\n",
    "ridge_model.fit(X_train, y_train)\n",
    "y_pred = ridge_model.predict(X_test)\n",
    "score = r2_score(y_test,y_pred)*100\n",
    "print(f\"Accuracy of the model: {score}\")"
   ]
  },
  {
   "cell_type": "markdown",
   "id": "044d7022",
   "metadata": {},
   "source": [
    "### Plot the y_pred and y_test"
   ]
  },
  {
   "cell_type": "code",
   "execution_count": 45,
   "id": "248f6b8b",
   "metadata": {},
   "outputs": [
    {
     "data": {
      "image/png": "[encoded data removed]",
      "text/plain": [
       "<Figure size 640x480 with 1 Axes>"
      ]
     },
     "metadata": {},
     "output_type": "display_data"
    }
   ],
   "source": [
    "plt.scatter(y_test,y_pred)\n",
    "plt.title(\"Actual VS Predicted\")\n",
    "plt.xlabel('Actual Values')\n",
    "plt.ylabel('Predicted Values')\n",
    "plt.show()"
   ]
  },
  {
   "cell_type": "code",
   "execution_count": 46,
   "id": "d5c16519",
   "metadata": {},
   "outputs": [
    {
     "data": {
      "image/png": "[encoded data removed]",
      "text/plain": [
       "<Figure size 640x480 with 1 Axes>"
      ]
     },
     "metadata": {},
     "output_type": "display_data"
    }
   ],
   "source": [
    "sns.regplot(x=y_test,y=y_pred,color='red')\n",
    "plt.show()"
   ]
  },
  {
   "cell_type": "code",
   "execution_count": 47,
   "id": "4c4143af",
   "metadata": {},
   "outputs": [
    {
     "data": {
      "text/html": [
       "<div>\n",
       "<style scoped>\n",
       "    .dataframe tbody tr th:only-of-type {\n",
       "        vertical-align: middle;\n",
       "    }\n",
       "\n",
       "    .dataframe tbody tr th {\n",
       "        vertical-align: top;\n",
       "    }\n",
       "\n",
       "    .dataframe thead th {\n",
       "        text-align: right;\n",
       "    }\n",
       "</style>\n",
       "<table border=\"1\" class=\"dataframe\">\n",
       "  <thead>\n",
       "    <tr style=\"text-align: right;\">\n",
       "      <th></th>\n",
       "      <th>Actual</th>\n",
       "      <th>Prediicted</th>\n",
       "      <th>Difference</th>\n",
       "    </tr>\n",
       "  </thead>\n",
       "  <tbody>\n",
       "    <tr>\n",
       "      <th>623</th>\n",
       "      <td>100</td>\n",
       "      <td>90.197491</td>\n",
       "      <td>9.802509</td>\n",
       "    </tr>\n",
       "    <tr>\n",
       "      <th>458</th>\n",
       "      <td>100</td>\n",
       "      <td>95.601744</td>\n",
       "      <td>4.398256</td>\n",
       "    </tr>\n",
       "    <tr>\n",
       "      <th>741</th>\n",
       "      <td>37</td>\n",
       "      <td>46.426157</td>\n",
       "      <td>-9.426157</td>\n",
       "    </tr>\n",
       "    <tr>\n",
       "      <th>443</th>\n",
       "      <td>73</td>\n",
       "      <td>70.997135</td>\n",
       "      <td>2.002865</td>\n",
       "    </tr>\n",
       "    <tr>\n",
       "      <th>280</th>\n",
       "      <td>53</td>\n",
       "      <td>52.264504</td>\n",
       "      <td>0.735496</td>\n",
       "    </tr>\n",
       "    <tr>\n",
       "      <th>590</th>\n",
       "      <td>58</td>\n",
       "      <td>58.687880</td>\n",
       "      <td>-0.687880</td>\n",
       "    </tr>\n",
       "    <tr>\n",
       "      <th>717</th>\n",
       "      <td>96</td>\n",
       "      <td>86.262041</td>\n",
       "      <td>9.737959</td>\n",
       "    </tr>\n",
       "    <tr>\n",
       "      <th>304</th>\n",
       "      <td>74</td>\n",
       "      <td>69.824926</td>\n",
       "      <td>4.175074</td>\n",
       "    </tr>\n",
       "    <tr>\n",
       "      <th>728</th>\n",
       "      <td>73</td>\n",
       "      <td>75.196303</td>\n",
       "      <td>-2.196303</td>\n",
       "    </tr>\n",
       "    <tr>\n",
       "      <th>502</th>\n",
       "      <td>63</td>\n",
       "      <td>59.668223</td>\n",
       "      <td>3.331777</td>\n",
       "    </tr>\n",
       "    <tr>\n",
       "      <th>358</th>\n",
       "      <td>59</td>\n",
       "      <td>64.658182</td>\n",
       "      <td>-5.658182</td>\n",
       "    </tr>\n",
       "    <tr>\n",
       "      <th>604</th>\n",
       "      <td>84</td>\n",
       "      <td>86.073447</td>\n",
       "      <td>-2.073447</td>\n",
       "    </tr>\n",
       "    <tr>\n",
       "      <th>662</th>\n",
       "      <td>55</td>\n",
       "      <td>59.284616</td>\n",
       "      <td>-4.284616</td>\n",
       "    </tr>\n",
       "    <tr>\n",
       "      <th>878</th>\n",
       "      <td>59</td>\n",
       "      <td>70.922527</td>\n",
       "      <td>-11.922527</td>\n",
       "    </tr>\n",
       "    <tr>\n",
       "      <th>299</th>\n",
       "      <td>90</td>\n",
       "      <td>80.497925</td>\n",
       "      <td>9.502075</td>\n",
       "    </tr>\n",
       "    <tr>\n",
       "      <th>68</th>\n",
       "      <td>61</td>\n",
       "      <td>60.697380</td>\n",
       "      <td>0.302620</td>\n",
       "    </tr>\n",
       "    <tr>\n",
       "      <th>384</th>\n",
       "      <td>38</td>\n",
       "      <td>34.334523</td>\n",
       "      <td>3.665477</td>\n",
       "    </tr>\n",
       "    <tr>\n",
       "      <th>692</th>\n",
       "      <td>66</td>\n",
       "      <td>63.950543</td>\n",
       "      <td>2.049457</td>\n",
       "    </tr>\n",
       "    <tr>\n",
       "      <th>765</th>\n",
       "      <td>74</td>\n",
       "      <td>65.825255</td>\n",
       "      <td>8.174745</td>\n",
       "    </tr>\n",
       "    <tr>\n",
       "      <th>110</th>\n",
       "      <td>77</td>\n",
       "      <td>80.361944</td>\n",
       "      <td>-3.361944</td>\n",
       "    </tr>\n",
       "  </tbody>\n",
       "</table>\n",
       "</div>"
      ],
      "text/plain": [
       "     Actual  Prediicted  Difference\n",
       "623     100   90.197491    9.802509\n",
       "458     100   95.601744    4.398256\n",
       "741      37   46.426157   -9.426157\n",
       "443      73   70.997135    2.002865\n",
       "280      53   52.264504    0.735496\n",
       "590      58   58.687880   -0.687880\n",
       "717      96   86.262041    9.737959\n",
       "304      74   69.824926    4.175074\n",
       "728      73   75.196303   -2.196303\n",
       "502      63   59.668223    3.331777\n",
       "358      59   64.658182   -5.658182\n",
       "604      84   86.073447   -2.073447\n",
       "662      55   59.284616   -4.284616\n",
       "878      59   70.922527  -11.922527\n",
       "299      90   80.497925    9.502075\n",
       "68       61   60.697380    0.302620\n",
       "384      38   34.334523    3.665477\n",
       "692      66   63.950543    2.049457\n",
       "765      74   65.825255    8.174745\n",
       "110      77   80.361944   -3.361944"
      ]
     },
     "execution_count": 47,
     "metadata": {},
     "output_type": "execute_result"
    }
   ],
   "source": [
    "pred_df = pd.DataFrame({\"Actual\":y_test,\"Prediicted\":y_pred,\"Difference\":y_test-y_pred})\n",
    "pred_df.head(20)"
   ]
  }
 ],
 "metadata": {
  "kernelspec": {
   "display_name": "Python 3",
   "language": "python",
   "name": "python3"
  },
  "language_info": {
   "codemirror_mode": {
    "name": "ipython",
    "version": 3
   },
   "file_extension": ".py",
   "mimetype": "text/x-python",
   "name": "python",
   "nbconvert_exporter": "python",
   "pygments_lexer": "ipython3",
   "version": "3.8.20"
  }
 },
 "nbformat": 4,
 "nbformat_minor": 5
}
